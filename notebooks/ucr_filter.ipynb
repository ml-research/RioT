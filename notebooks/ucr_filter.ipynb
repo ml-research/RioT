{
 "cells": [
  {
   "cell_type": "code",
   "execution_count": 2,
   "metadata": {},
   "outputs": [
    {
     "name": "stdout",
     "output_type": "stream",
     "text": [
      "dict_keys(['Dataset_id', '0', 'Dataset', '1', 'Train_size', '2', 'Test_size', '3', 'Length', '4', 'Multivariate_flag', '5', 'Number_of_classes', '6', 'Type', '7'])\n",
      "Univariate: 150\n",
      "No Simulate: 141\n",
      "Not Broken: 122\n",
      "Train_size > 750: 21\n",
      "Max 10 Classes: 18\n",
      "Length >= 90: 13\n",
      "No double datasets: 10\n",
      "['CardiacArrhythmia', 'FaultDetectionA', 'FordA', 'FordB', 'HandOutlines', 'KeplerLightCurves', 'Sleep', 'StarLightCurves', 'UWaveGestureLibraryAll', 'Wafer']\n",
      "Train_size > 1000: 5\n",
      "['CardiacArrhythmia, 3', 'FaultDetectionA, 3', 'FordA, 2', 'FordB, 2', 'Sleep, 5']\n"
     ]
    }
   ],
   "source": [
    "import json\n",
    "\n",
    "with open('./../data/datasetTable.json', 'r') as f:\n",
    "    data = json.load(f)\n",
    "\n",
    "\n",
    "\n",
    "\n",
    "# datasets somehow not working through sktime\n",
    "\n",
    "broken_datasets = [# Somehow broken:\n",
    "    \"SpokenArabicDigits\",\n",
    "    \"PEMS-SF\",  # PEMS/SF is not strictly an issue, but it has a slash, hence we ignore it for now\n",
    "    # \"NotImplementedError: That compression method is not supported\":\n",
    "    \"FruitFlies\",\n",
    "    # DATASET_NAME_TRAIN.ts missing:\n",
    "    \"InsectSound\",\n",
    "    \"CounterMovementJump\",\n",
    "    \"DucksAndGeese\",\n",
    "    \"ElectricDeviceDetection\",\n",
    "    \"MosquitoSound\",\n",
    "    \"UrbanSound\",\n",
    "    # \"ValueError: Invalid dataset name 'MixedShapes' is not available on extract path '.cache'.\n",
    "    # Nor is it available on 'https://timeseriesclassification.com/'.\"\n",
    "    \"MixedShapes\",\n",
    "    # \"OSError: data tag should not have associated value\":\n",
    "    \"Colposcopy\",\n",
    "    \"BinaryHeartbeat\",\n",
    "    \"CatsDogs\",\n",
    "    \"RightWhaleCalls\",\n",
    "    \"SharePriceIncrease\",\n",
    "    # inconsistent lengths:\n",
    "    \"CharacterTrajectories\",\n",
    "    \"JapaneseVowels\",\n",
    "    \"MelbournePedestrian\",\n",
    "    \"GestureMidAirD1\",\n",
    "    \"GestureMidAirD2\",\n",
    "    \"GestureMidAirD3\",\n",
    "    \"InsectWingbeat\",\n",
    "    # Missing values:\n",
    "    \"DodgerLoopDay\",\n",
    "    \"DodgerLoopGame\",\n",
    "    \"DodgerLoopWeekend\",\n",
    "]\n",
    "\n",
    "print(data[0].keys())\n",
    "\n",
    "data = [d for d in data if d['Multivariate_flag'] == 0]\n",
    "print(\"Univariate:\", len(data))\n",
    "data = [d for d in data if d['Type'] != 'SIMULATED']\n",
    "print(\"No Simulate:\", len(data))\n",
    "data = [d for d in data if d['Dataset'] not in broken_datasets]\n",
    "print(\"Not Broken:\", len(data))\n",
    "data = [d for d in data if d['Train_size'] > 750]\n",
    "print(\"Train_size > 750:\", len(data))\n",
    "data = [d for d in data if d['Number_of_classes'] <= 10]\n",
    "print(\"Max 10 Classes:\", len(data))\n",
    "data = [d for d in data if d['Length'] >= 100]\n",
    "print(\"Length >= 90:\", len(data))\n",
    "data = [d for d in data if d['Dataset'] not in ['UWaveGestureLibraryX', 'UWaveGestureLibraryY', 'UWaveGestureLibraryZ', 'NonInvasiveFetalECGThorax2']]\n",
    "print(\"No double datasets:\", len(data))\n",
    "\n",
    "print([d['Dataset'] for d in data])\n",
    "\n",
    "data = [d for d in data if d['Train_size'] > 1000]\n",
    "print(\"Train_size > 1000:\", len(data))\n",
    "print([f\"{d['Dataset']}, {d['Number_of_classes']}\" for d in data])\n",
    "\n"
   ]
  },
  {
   "cell_type": "code",
   "execution_count": null,
   "metadata": {},
   "outputs": [],
   "source": []
  }
 ],
 "metadata": {
  "kernelspec": {
   "display_name": "Python 3",
   "language": "python",
   "name": "python3"
  },
  "language_info": {
   "codemirror_mode": {
    "name": "ipython",
    "version": 3
   },
   "file_extension": ".py",
   "mimetype": "text/x-python",
   "name": "python",
   "nbconvert_exporter": "python",
   "pygments_lexer": "ipython3",
   "version": "3.11.0"
  }
 },
 "nbformat": 4,
 "nbformat_minor": 2
}
